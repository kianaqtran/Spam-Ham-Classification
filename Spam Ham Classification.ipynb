{
 "cells": [
  {
   "cell_type": "markdown",
   "id": "f633f621",
   "metadata": {},
   "source": [
    "# Spam/Ham Email Classifcation "
   ]
  },
  {
   "cell_type": "markdown",
   "id": "a517d325",
   "metadata": {},
   "source": [
    "This project is a basic classifier that will be able to distinguish spam (junk/commercial/bulk) emails from ham (non-spam) emails. \n",
    "\n",
    "Showcase of \n",
    "- Feature engineering with text data\n",
    "- Using sklearn libraries to process data and fit models\n",
    "- Validating the performance of your model and minimizing overfitting\n",
    "- Generating and analyzing precision-recall curves\n",
    "\n",
    "I am using a real world dataset to test and create my models. The training dataset consists of 8348 email messages and their labels (0: ham, 1: spam). The test dataset contains 1000 unlabeled email examples. "
   ]
  },
  {
   "cell_type": "code",
   "execution_count": 1,
   "id": "8f91af84",
   "metadata": {},
   "outputs": [],
   "source": [
    "import numpy as np\n",
    "import pandas as pd\n",
    "\n",
    "import matplotlib.pyplot as plt\n",
    "%matplotlib inline\n",
    "\n",
    "import seaborn as sns\n",
    "sns.set(style = \"whitegrid\", \n",
    "        color_codes = True,\n",
    "        font_scale = 1.5)"
   ]
  },
  {
   "cell_type": "markdown",
   "id": "05a30729",
   "metadata": {},
   "source": [
    "### Load in the Data\n"
   ]
  },
  {
   "cell_type": "code",
   "execution_count": 103,
   "id": "a5ffd20e",
   "metadata": {},
   "outputs": [],
   "source": [
    "original_training_data = pd.read_csv('data/train.csv')\n",
    "test = pd.read_csv('data/test.csv')"
   ]
  },
  {
   "cell_type": "code",
   "execution_count": 104,
   "id": "d78181af",
   "metadata": {},
   "outputs": [
    {
     "data": {
      "text/html": [
       "<div>\n",
       "<style scoped>\n",
       "    .dataframe tbody tr th:only-of-type {\n",
       "        vertical-align: middle;\n",
       "    }\n",
       "\n",
       "    .dataframe tbody tr th {\n",
       "        vertical-align: top;\n",
       "    }\n",
       "\n",
       "    .dataframe thead th {\n",
       "        text-align: right;\n",
       "    }\n",
       "</style>\n",
       "<table border=\"1\" class=\"dataframe\">\n",
       "  <thead>\n",
       "    <tr style=\"text-align: right;\">\n",
       "      <th></th>\n",
       "      <th>id</th>\n",
       "      <th>subject</th>\n",
       "      <th>email</th>\n",
       "      <th>spam</th>\n",
       "    </tr>\n",
       "  </thead>\n",
       "  <tbody>\n",
       "    <tr>\n",
       "      <th>0</th>\n",
       "      <td>0</td>\n",
       "      <td>Subject: A&amp;L Daily to be auctioned in bankrupt...</td>\n",
       "      <td>url: http://boingboing.net/#85534171\\n date: n...</td>\n",
       "      <td>0</td>\n",
       "    </tr>\n",
       "    <tr>\n",
       "      <th>1</th>\n",
       "      <td>1</td>\n",
       "      <td>Subject: Wired: \"Stronger ties between ISPs an...</td>\n",
       "      <td>url: http://scriptingnews.userland.com/backiss...</td>\n",
       "      <td>0</td>\n",
       "    </tr>\n",
       "    <tr>\n",
       "      <th>2</th>\n",
       "      <td>2</td>\n",
       "      <td>Subject: It's just too small                  ...</td>\n",
       "      <td>&lt;html&gt;\\n &lt;head&gt;\\n &lt;/head&gt;\\n &lt;body&gt;\\n &lt;font siz...</td>\n",
       "      <td>1</td>\n",
       "    </tr>\n",
       "    <tr>\n",
       "      <th>3</th>\n",
       "      <td>3</td>\n",
       "      <td>Subject: liberal defnitions\\n</td>\n",
       "      <td>depends on how much over spending vs. how much...</td>\n",
       "      <td>0</td>\n",
       "    </tr>\n",
       "    <tr>\n",
       "      <th>4</th>\n",
       "      <td>4</td>\n",
       "      <td>Subject: RE: [ILUG] Newbie seeks advice - Suse...</td>\n",
       "      <td>hehe sorry but if you hit caps lock twice the ...</td>\n",
       "      <td>0</td>\n",
       "    </tr>\n",
       "  </tbody>\n",
       "</table>\n",
       "</div>"
      ],
      "text/plain": [
       "   id                                            subject  \\\n",
       "0   0  Subject: A&L Daily to be auctioned in bankrupt...   \n",
       "1   1  Subject: Wired: \"Stronger ties between ISPs an...   \n",
       "2   2  Subject: It's just too small                  ...   \n",
       "3   3                      Subject: liberal defnitions\\n   \n",
       "4   4  Subject: RE: [ILUG] Newbie seeks advice - Suse...   \n",
       "\n",
       "                                               email  spam  \n",
       "0  url: http://boingboing.net/#85534171\\n date: n...     0  \n",
       "1  url: http://scriptingnews.userland.com/backiss...     0  \n",
       "2  <html>\\n <head>\\n </head>\\n <body>\\n <font siz...     1  \n",
       "3  depends on how much over spending vs. how much...     0  \n",
       "4  hehe sorry but if you hit caps lock twice the ...     0  "
      ]
     },
     "execution_count": 104,
     "metadata": {},
     "output_type": "execute_result"
    }
   ],
   "source": [
    "#Convert the emails to lower case to process the text\n",
    "original_training_data['email'] = original_training_data['email'].str.lower()\n",
    "test['email'] = test['email'].str.lower()\n",
    "\n",
    "original_training_data.head()"
   ]
  },
  {
   "cell_type": "code",
   "execution_count": 6,
   "id": "bb2f67f6",
   "metadata": {},
   "outputs": [
    {
     "data": {
      "text/html": [
       "<div>\n",
       "<style scoped>\n",
       "    .dataframe tbody tr th:only-of-type {\n",
       "        vertical-align: middle;\n",
       "    }\n",
       "\n",
       "    .dataframe tbody tr th {\n",
       "        vertical-align: top;\n",
       "    }\n",
       "\n",
       "    .dataframe thead th {\n",
       "        text-align: right;\n",
       "    }\n",
       "</style>\n",
       "<table border=\"1\" class=\"dataframe\">\n",
       "  <thead>\n",
       "    <tr style=\"text-align: right;\">\n",
       "      <th></th>\n",
       "      <th>id</th>\n",
       "      <th>subject</th>\n",
       "      <th>email</th>\n",
       "    </tr>\n",
       "  </thead>\n",
       "  <tbody>\n",
       "    <tr>\n",
       "      <th>0</th>\n",
       "      <td>0</td>\n",
       "      <td>Subject: CERT Advisory CA-2002-21 Vulnerabilit...</td>\n",
       "      <td>\\n \\n -----begin pgp signed message-----\\n \\n ...</td>\n",
       "    </tr>\n",
       "    <tr>\n",
       "      <th>1</th>\n",
       "      <td>1</td>\n",
       "      <td>Subject: ADV: Affordable Life Insurance ddbfk\\n</td>\n",
       "      <td>low-cost term-life insurance!\\n save up to 70%...</td>\n",
       "    </tr>\n",
       "    <tr>\n",
       "      <th>2</th>\n",
       "      <td>2</td>\n",
       "      <td>Subject: CAREER OPPORTUNITY.  WORK FROM HOME\\n</td>\n",
       "      <td>------=_nextpart_000_00a0_03e30a1a.b1804b54\\n ...</td>\n",
       "    </tr>\n",
       "    <tr>\n",
       "      <th>3</th>\n",
       "      <td>3</td>\n",
       "      <td>Subject: Marriage makes both sexes happy\\n</td>\n",
       "      <td>url: http://www.newsisfree.com/click/-3,848315...</td>\n",
       "    </tr>\n",
       "    <tr>\n",
       "      <th>4</th>\n",
       "      <td>4</td>\n",
       "      <td>Subject: Re: [SAtalk] SA very slow (hangs?) on...</td>\n",
       "      <td>on thursday 29 august 2002 16:39 cet mike burg...</td>\n",
       "    </tr>\n",
       "  </tbody>\n",
       "</table>\n",
       "</div>"
      ],
      "text/plain": [
       "   id                                            subject  \\\n",
       "0   0  Subject: CERT Advisory CA-2002-21 Vulnerabilit...   \n",
       "1   1    Subject: ADV: Affordable Life Insurance ddbfk\\n   \n",
       "2   2     Subject: CAREER OPPORTUNITY.  WORK FROM HOME\\n   \n",
       "3   3         Subject: Marriage makes both sexes happy\\n   \n",
       "4   4  Subject: Re: [SAtalk] SA very slow (hangs?) on...   \n",
       "\n",
       "                                               email  \n",
       "0  \\n \\n -----begin pgp signed message-----\\n \\n ...  \n",
       "1  low-cost term-life insurance!\\n save up to 70%...  \n",
       "2  ------=_nextpart_000_00a0_03e30a1a.b1804b54\\n ...  \n",
       "3  url: http://www.newsisfree.com/click/-3,848315...  \n",
       "4  on thursday 29 august 2002 16:39 cet mike burg...  "
      ]
     },
     "execution_count": 6,
     "metadata": {},
     "output_type": "execute_result"
    }
   ],
   "source": [
    "test.head()"
   ]
  },
  {
   "cell_type": "code",
   "execution_count": 105,
   "id": "0e10cb96",
   "metadata": {},
   "outputs": [
    {
     "data": {
      "text/plain": [
       "id         0\n",
       "subject    6\n",
       "email      0\n",
       "spam       0\n",
       "dtype: int64"
      ]
     },
     "metadata": {},
     "output_type": "display_data"
    },
    {
     "data": {
      "text/plain": [
       "id         0\n",
       "subject    1\n",
       "email      0\n",
       "dtype: int64"
      ]
     },
     "metadata": {},
     "output_type": "display_data"
    }
   ],
   "source": [
    "#Check for missing values \n",
    "display(original_training_data.isna().sum(), test.isna().sum())"
   ]
  },
  {
   "cell_type": "code",
   "execution_count": 106,
   "id": "6b0b7674",
   "metadata": {},
   "outputs": [],
   "source": [
    "#Replace missing values with empty strings \n",
    "original_training_data['subject'] = original_training_data['subject'].fillna(\"\")\n",
    "test['subject'] = test['subject'].fillna(\"\")\n",
    "original_training_data['spam'] = original_training_data['spam'].fillna(0)"
   ]
  },
  {
   "cell_type": "markdown",
   "id": "f1ef2018",
   "metadata": {},
   "source": [
    "### Training Validation Split\n",
    "\n",
    "We need to split the training data into separate training and validation datasets. The validation data to assess the performance of your classifier once you are finished training is necessary. "
   ]
  },
  {
   "cell_type": "code",
   "execution_count": 108,
   "id": "02a7bbfb",
   "metadata": {},
   "outputs": [],
   "source": [
    "from sklearn.model_selection import train_test_split\n",
    "\n",
    "train, val = train_test_split(original_training_data, test_size=0.1)"
   ]
  },
  {
   "cell_type": "markdown",
   "id": "ca493962",
   "metadata": {},
   "source": [
    "## Feature Engineering\n",
    "Because I want to use the text of an email to predict whether the email is ham or spam, I need to use logistic regression to train a classifier. I first need to create a numeric feature matrix $X$ and a vector of corresponding binary labels $y$. In order to do this, I can create numeric features derived from the email text and use those features for logistic regression. \n",
    "\n",
    "Each row of $X$ is an email. Each column for $X$ contains one feature for all the emails. "
   ]
  },
  {
   "cell_type": "markdown",
   "id": "114913d7",
   "metadata": {},
   "source": [
    "Function `words_in_texts`\n",
    "Input: list of `words`, pandas Series of email `texts`\n",
    "Output: 2-D NumPy array containing one row for each small text\n",
    "The row contains either 0 or 1 for each word in the list; 0 if doesn't appear in the text, 1 if the word does.\n",
    "\n",
    "Example:\n",
    "```\n",
    ">>> words_in_texts(['hello', 'bye', 'world'], \n",
    "                   pd.Series(['hello', 'hello worldhello']))\n",
    "\n",
    "array([[1, 0, 0],\n",
    "       [1, 0, 1]])\n",
    "```"
   ]
  },
  {
   "cell_type": "code",
   "execution_count": 109,
   "id": "cacf61ce",
   "metadata": {},
   "outputs": [],
   "source": [
    "def words_in_texts(words, texts):\n",
    "    '''\n",
    "    Args:\n",
    "        words (list-like): words to find\n",
    "        texts (Series): strings to search in\n",
    "    \n",
    "    Returns:\n",
    "        NumPy array of 0s and 1s with shape (n, p) where n is the\n",
    "        number of texts and p is the number of words.\n",
    "    '''\n",
    "    indicator_array = []\n",
    "    for i in texts:\n",
    "        arr_0 = []\n",
    "        for j in words:\n",
    "            arr_0.append(j in i)\n",
    "        indicator_array.append(arr_0)\n",
    "    indicator_array = np.array(indicator_array).astype(int)\n",
    "    return indicator_array"
   ]
  },
  {
   "cell_type": "markdown",
   "id": "00405240",
   "metadata": {},
   "source": [
    "## Exploratory Data Analysis\n",
    "\n",
    "I first need to identify features that would allow us to distinguis spam emails from ham emails. If the feature is itself a binary indicator, such as whether a certain word occurs in the text, this amounts to comparing the proportion of spam emails with the word to the proportion of ham emails with the word."
   ]
  },
  {
   "cell_type": "code",
   "execution_count": 110,
   "id": "ca2f3fa1",
   "metadata": {},
   "outputs": [
    {
     "data": {
      "image/png": "[encoded data removed]",
      "text/plain": [
       "<Figure size 864x864 with 1 Axes>"
      ]
     },
     "metadata": {},
     "output_type": "display_data"
    }
   ],
   "source": [
    "#Bar chart compares the proportion of emails in each class containing a particular set of words\n",
    "\n",
    "#function to determine proportion of spam/ham emails containing specific words\n",
    "def get_prop(words, data):\n",
    "    containing = words_in_texts(word_list, data)\n",
    "    sum_arr = []\n",
    "    for i in np.arange(len(words)):\n",
    "        count = 0\n",
    "        for j in containing:\n",
    "                count = count + j[i]\n",
    "        sum_arr.append(count)\n",
    "    return np.array(sum_arr) / len(data)\n",
    "\n",
    "\n",
    "word_list = ['body', 'business', 'html', 'money', 'offer', 'please']\n",
    "\n",
    "#separate spam and ham emails \n",
    "hamz = train[train['spam'] == 0]\n",
    "hamz_arr = get_prop(word_list, hamz['email'])\n",
    "\n",
    "spamz = train[train['spam'] == 1]\n",
    "spamz_arr = get_prop(word_list, spamz['email']) \n",
    "\n",
    "grapho = pd.DataFrame()\n",
    "grapho['word_list'] = word_list\n",
    "grapho['ham'] = hamz_arr\n",
    "grapho['spam'] = spamz_arr\n",
    "grapho = pd.melt(grapho, id_vars = 'word_list')\n",
    "plt.figure(figsize = (12,12))\n",
    "plt.ylim(0,1)\n",
    "sns.barplot(x = 'word_list', y = 'value', hue = 'variable', data = grapho)\n",
    "plt.xlabel('Words')\n",
    "plt.ylabel('Proportion of Emails')\n",
    "plt.title('Frequency of Words in Spam/Ham Emails');\n"
   ]
  },
  {
   "cell_type": "code",
   "execution_count": 111,
   "id": "8443d82c",
   "metadata": {},
   "outputs": [
    {
     "data": {
      "image/png": "[encoded data removed]",
      "text/plain": [
       "<Figure size 864x864 with 1 Axes>"
      ]
     },
     "metadata": {},
     "output_type": "display_data"
    }
   ],
   "source": [
    "\n",
    "word_list = ['$', 'order', 'head', '%', 'content', 'click']\n",
    "\n",
    "grapho = pd.DataFrame()\n",
    "grapho['word_list'] = word_list\n",
    "grapho['ham'] = hamz_arr\n",
    "grapho['spam'] = spamz_arr\n",
    "grapho = pd.melt(grapho, id_vars = 'word_list')\n",
    "plt.figure(figsize = (12,12))\n",
    "plt.ylim(0,1)\n",
    "sns.barplot(x = 'word_list', y = 'value', hue = 'variable', data = grapho)\n",
    "plt.xlabel('Words')\n",
    "plt.ylabel('Proportion of Emails')\n",
    "plt.title('Frequency of Words in Spam/Ham Emails');\n",
    "\n"
   ]
  },
  {
   "cell_type": "markdown",
   "id": "f7033100",
   "metadata": {},
   "source": [
    "Want to create a class conditional density plot comparing the distribution of the length of spam emails to the distribution of the length of ham emails in the training set. "
   ]
  },
  {
   "cell_type": "code",
   "execution_count": 112,
   "id": "e338600f",
   "metadata": {},
   "outputs": [
    {
     "name": "stderr",
     "output_type": "stream",
     "text": [
      "<ipython-input-112-ab7945b88286>:1: SettingWithCopyWarning: \n",
      "A value is trying to be set on a copy of a slice from a DataFrame.\n",
      "Try using .loc[row_indexer,col_indexer] = value instead\n",
      "\n",
      "See the caveats in the documentation: https://pandas.pydata.org/pandas-docs/stable/user_guide/indexing.html#returning-a-view-versus-a-copy\n",
      "  hamz['email_length'] = hamz['email'].apply(len)\n",
      "<ipython-input-112-ab7945b88286>:2: SettingWithCopyWarning: \n",
      "A value is trying to be set on a copy of a slice from a DataFrame.\n",
      "Try using .loc[row_indexer,col_indexer] = value instead\n",
      "\n",
      "See the caveats in the documentation: https://pandas.pydata.org/pandas-docs/stable/user_guide/indexing.html#returning-a-view-versus-a-copy\n",
      "  spamz['email_length'] = spamz['email'].apply(len)\n",
      "/Users/kianatran/opt/anaconda3/lib/python3.8/site-packages/seaborn/distributions.py:2557: FutureWarning: `distplot` is a deprecated function and will be removed in a future version. Please adapt your code to use either `displot` (a figure-level function with similar flexibility) or `kdeplot` (an axes-level function for kernel density plots).\n",
      "  warnings.warn(msg, FutureWarning)\n",
      "/Users/kianatran/opt/anaconda3/lib/python3.8/site-packages/seaborn/distributions.py:2557: FutureWarning: `distplot` is a deprecated function and will be removed in a future version. Please adapt your code to use either `displot` (a figure-level function with similar flexibility) or `kdeplot` (an axes-level function for kernel density plots).\n",
      "  warnings.warn(msg, FutureWarning)\n"
     ]
    },
    {
     "data": {
      "image/png": "[encoded data removed]",
      "text/plain": [
       "<Figure size 432x288 with 1 Axes>"
      ]
     },
     "metadata": {},
     "output_type": "display_data"
    }
   ],
   "source": [
    "hamz['email_length'] = hamz['email'].apply(len)\n",
    "spamz['email_length'] = spamz['email'].apply(len)\n",
    "plt.xlim(0, 40000)\n",
    "sns.distplot(hamz['email_length'], bins = 10000, hist = False, label = 'Ham')\n",
    "sns.distplot(spamz['email_length'], bins = 10000, hist = False, label = 'Spam')\n",
    "plt.xlabel('Length of email body')\n",
    "plt.ylabel('Distribution')\n",
    "plt.legend();"
   ]
  },
  {
   "cell_type": "markdown",
   "id": "44c61229",
   "metadata": {},
   "source": [
    "## Basic Classification\n",
    "\n",
    "Because function `words_in_texts(words, train['email'])` is a numeric matrix containing features for each email, we can use it directly to train a classifier. "
   ]
  },
  {
   "cell_type": "markdown",
   "id": "fbc5bd4b",
   "metadata": {},
   "source": [
    "`X_train`: matrix of 0s and 1s created by using `words_in_texts` function on all emails in the training set\n",
    "\n",
    "`Y_train`: vector of correct lables for each email in the training set"
   ]
  },
  {
   "cell_type": "code",
   "execution_count": 113,
   "id": "5af2fea6",
   "metadata": {},
   "outputs": [
    {
     "data": {
      "text/plain": [
       "(array([[0, 0, 0, 0, 0],\n",
       "        [0, 0, 0, 0, 0],\n",
       "        [0, 0, 0, 0, 0],\n",
       "        [0, 0, 0, 0, 0],\n",
       "        [0, 0, 0, 0, 0]]),\n",
       " 5239    0\n",
       " 4008    0\n",
       " 343     1\n",
       " 4800    0\n",
       " 6148    0\n",
       " Name: spam, dtype: int64)"
      ]
     },
     "execution_count": 113,
     "metadata": {},
     "output_type": "execute_result"
    }
   ],
   "source": [
    "#words to help distinguish spam/ham emails\n",
    "some_words = ['drug', 'bank', 'prescription', 'memo', 'private']\n",
    "\n",
    "X_train = words_in_texts(some_words, train['email'])\n",
    "Y_train = train['spam']\n",
    "\n",
    "X_train[:5], Y_train[:5]"
   ]
  },
  {
   "cell_type": "markdown",
   "id": "8f99578f",
   "metadata": {},
   "source": [
    "Using the [`LogisticRegression`](http://scikit-learn.org/stable/modules/generated/sklearn.linear_model.LogisticRegression.html) classifier, train a logistic regression model using `X_train` and `Y_train`. Then, outputting the accuracy of the model (on the training data). "
   ]
  },
  {
   "cell_type": "code",
   "execution_count": 114,
   "id": "bee50d23",
   "metadata": {},
   "outputs": [
    {
     "name": "stdout",
     "output_type": "stream",
     "text": [
      "Training Accuracy:  0.7572208172500998\n"
     ]
    }
   ],
   "source": [
    "from sklearn.linear_model import LogisticRegression\n",
    "\n",
    "model = LogisticRegression()\n",
    "model.fit(X_train, Y_train)\n",
    "y_pred = model.predict(X_train)\n",
    "training_accuracy = sum((Y_train == y_pred).astype(int)) / len(Y_train)\n",
    "print(\"Training Accuracy: \", training_accuracy)"
   ]
  },
  {
   "cell_type": "markdown",
   "id": "e1f6a7fd",
   "metadata": {},
   "source": [
    "## Evaluating Classifiers\n",
    "\n",
    "The simple classifier isn't bad, but not as good as it might lead us to believe. First, we are evaluating accuracy on the training set, which may provide a misleading accuracy measure. Accuracy on the training set doesn't always translate to accuracy in the real world (on the test set). \n",
    "\n",
    "Let's look at the two kinds of **filtering** errors our classifier can make. \n",
    "- False positive (FP): a ham email gets flagged as spam and filtered out of the inbox.\n",
    "- False negative (FN): a spam email gets mislabeled as ham and ends up in the inbox.\n",
    "\n",
    "For clarity, spam emails are labelled 1 while ham emails are labelled 0.\n",
    "\n",
    "**Precision** measures the proportion $\\frac{\\text{TP}}{\\text{TP} + \\text{FP}}$ of emails flagged as spam that are actually spam.\n",
    "\n",
    "**Recall** measures the proportion $\\frac{\\text{TP}}{\\text{TP} + \\text{FN}}$ of actually spam emails that were correctly flagged as spam. \n",
    "\n",
    "**False-alarm rate** measures the proportion $\\frac{\\text{FP}}{\\text{FP} + \\text{TN}}$ of ham emails that were incorrectly flagged as spam. \n",
    "\n",
    "<img src=\"https://upload.wikimedia.org/wikipedia/commons/thumb/2/26/Precisionrecall.svg/700px-Precisionrecall.svg.png\" width=\"500px\">\n",
    "\n",
    "Note that a true positive (TP) is a spam email that is classified as spam, and a true negative (TN) is a ham email that is classified as ham."
   ]
  },
  {
   "cell_type": "code",
   "execution_count": 115,
   "id": "e050fea6",
   "metadata": {},
   "outputs": [],
   "source": [
    "#Compare if have a `zero_predictor` classifier that always predicts 0 (never predicts positive)\n",
    "zero_predictor_fp = 0\n",
    "zero_predictor_fn = np.sum((Y_train == 1).astype(int))\n",
    "zero_predictor_acc = np.sum((Y_train == 0).astype(int))/len(Y_train)\n",
    "zero_predictor_recall = 0 "
   ]
  },
  {
   "cell_type": "code",
   "execution_count": 116,
   "id": "398452ad",
   "metadata": {},
   "outputs": [],
   "source": [
    "def to_int(x):\n",
    "    try:\n",
    "        return int(x)\n",
    "    except ValueError:\n",
    "        return 0\n",
    "\n",
    "Y_train = [*map(to_int, Y_train)]"
   ]
  },
  {
   "cell_type": "code",
   "execution_count": 117,
   "id": "9ec30d40",
   "metadata": {},
   "outputs": [],
   "source": [
    "#Compare to simple classifier created above.\n",
    "tp_log = 0\n",
    "fp_log = 0\n",
    "tn_log = 0\n",
    "fn_log = 0\n",
    "for i in np.arange(len(y_pred)):\n",
    "    if y_pred[i] == Y_train[i] and y_pred[i] == 1:\n",
    "        tp_log = tp_log + 1\n",
    "    elif y_pred[i] == 1 and Y_train[i] != y_pred[i]:\n",
    "        fp_log = fp_log + 1\n",
    "    elif y_pred[i] == 0 and Y_train[i] == y_pred[i]:\n",
    "        tn_log = tn_log + 1\n",
    "    elif y_pred[i] == 0 and Y_train[i] != y_pred[i]:\n",
    "        fn_log = fn_log + 1\n",
    "\n",
    "logistic_predictor_precision = tp_log/ (tp_log + fp_log)\n",
    "logistic_predictor_recall = tp_log / (tp_log + fn_log)\n",
    "logistic_predictor_far = fp_log / (fp_log + tn_log)\n",
    "logistic_predictor_acc = (tp_log + tn_log) / len(y_pred)"
   ]
  },
  {
   "cell_type": "code",
   "execution_count": 97,
   "id": "a5733dbf",
   "metadata": {},
   "outputs": [
    {
     "name": "stdout",
     "output_type": "stream",
     "text": [
      "Requirement already satisfied: tabulate in /Users/kianatran/opt/anaconda3/lib/python3.8/site-packages (0.8.10)\r\n"
     ]
    }
   ],
   "source": [
    "import sys\n",
    "!{sys.executable} -m pip install tabulate"
   ]
  },
  {
   "cell_type": "code",
   "execution_count": 98,
   "id": "b524789e",
   "metadata": {},
   "outputs": [],
   "source": [
    "from tabulate import tabulate"
   ]
  },
  {
   "cell_type": "code",
   "execution_count": 118,
   "id": "88ff9100",
   "metadata": {},
   "outputs": [
    {
     "name": "stdout",
     "output_type": "stream",
     "text": [
      "╒══════════════════╤══════════════════╤════════════════════════╕\n",
      "│                  │   Zero Predictor │   Basic Log Classifier │\n",
      "╞══════════════════╪══════════════════╪════════════════════════╡\n",
      "│ Precision        │         0        │              0.625     │\n",
      "├──────────────────┼──────────────────┼────────────────────────┤\n",
      "│ Recall           │         0        │              0.112565  │\n",
      "├──────────────────┼──────────────────┼────────────────────────┤\n",
      "│ False Alarm Rate │         0        │              0.0230234 │\n",
      "├──────────────────┼──────────────────┼────────────────────────┤\n",
      "│ Accuracy         │         0.745774 │              0.757221  │\n",
      "╘══════════════════╧══════════════════╧════════════════════════╛\n"
     ]
    }
   ],
   "source": [
    "table = [['','Zero Predictor','Basic Log Classifier'],['Precision', 0, logistic_predictor_precision],['Recall',0, logistic_predictor_recall],['False Alarm Rate',0,logistic_predictor_far],['Accuracy', zero_predictor_acc, logistic_predictor_acc]]\n",
    "print(tabulate(table, headers = 'firstrow',tablefmt='fancy_grid'))"
   ]
  },
  {
   "cell_type": "markdown",
   "id": "5ff0d44d",
   "metadata": {},
   "source": [
    "The accuracy of the basic logistic regression model does not preform much better than the zero prediction classifier, but at least the logistic model can identify any relevant elements. "
   ]
  },
  {
   "cell_type": "markdown",
   "id": "f0566470",
   "metadata": {},
   "source": [
    "## Improving the Model\n",
    "\n",
    "In order to improve my model, I added several variables to perform linear regression:\n",
    "1. Character and word counts for the subject line\n",
    "2. Character and word counts for the email text\n",
    "3. Increase use of feature words and include symbols (ex. $, !, %)\n"
   ]
  },
  {
   "cell_type": "code",
   "execution_count": 119,
   "id": "531ca3f3",
   "metadata": {},
   "outputs": [
    {
     "name": "stdout",
     "output_type": "stream",
     "text": [
      "Training Accuracy:  0.8975109809663251\n"
     ]
    },
    {
     "name": "stderr",
     "output_type": "stream",
     "text": [
      "/Users/kianatran/opt/anaconda3/lib/python3.8/site-packages/sklearn/linear_model/_logistic.py:763: ConvergenceWarning: lbfgs failed to converge (status=1):\n",
      "STOP: TOTAL NO. of ITERATIONS REACHED LIMIT.\n",
      "\n",
      "Increase the number of iterations (max_iter) or scale the data as shown in:\n",
      "    https://scikit-learn.org/stable/modules/preprocessing.html\n",
      "Please also refer to the documentation for alternative solver options:\n",
      "    https://scikit-learn.org/stable/modules/linear_model.html#logistic-regression\n",
      "  n_iter_i = _check_optimize_result(\n"
     ]
    }
   ],
   "source": [
    "def word_count(s):\n",
    "    return len(s.split())\n",
    "\n",
    "train_new = train.copy()\n",
    "train_new['sub count'] = train_new['subject'].str.len()\n",
    "train_new['subject'] = train_new['subject'].str.lower()\n",
    "word_list_new = ['html', 'please', 'click', 'order', 'price', 'mime', 'http', 'mailing list','dear','urgent','font','bgcolor','sir', 'head','$']\n",
    "subject_list = ['$', 'free', 'you','low', 'invited','re','@','rate','your','mortgage','business', 'earn','off','!!','!']\n",
    "train_new['word count'] = train_new['email'].agg(word_count)\n",
    "\n",
    "\n",
    "\n",
    "X_train_new = words_in_texts(word_list_new, train_new['email'])\n",
    "X_train_new = np.append(X_train_new, words_in_texts(subject_list, train_new['subject']), axis = 1)\n",
    "X_train_new = np.append(X_train_new, train_new['sub count'].to_numpy().reshape(len(train_new['sub count']), 1), axis = 1)\n",
    "X_train_new = np.append(X_train_new, train_new['word count'].to_numpy().reshape(len(train_new['word count']), 1), axis = 1)\n",
    "Y_train_new = train_new['spam']\n",
    "\n",
    "\n",
    "model_new = LogisticRegression()\n",
    "model_new.fit(X_train_new, Y_train_new)\n",
    "y_pred_new = model_new.predict(X_train_new)\n",
    "training_accuracy_new = sum((Y_train_new == y_pred_new).astype(int)) / len(Y_train_new)\n",
    "print(\"Training Accuracy: \", training_accuracy_new)\n"
   ]
  },
  {
   "cell_type": "markdown",
   "id": "53d30b7a",
   "metadata": {},
   "source": [
    "## ROC Curve\n",
    "\n",
    "When making predictions with a logistic model, your model gives a probability that your data point is a specific classication. With this spam/ham classification example, say that an email is spam if it gives a $\\ge 0.5$ probability of being spam. However, *we can adjust that cutoff*: we can say that an email is spam only if our classifier gives it $\\ge 0.7$ probability of being spam, for example. \n",
    "\n",
    "An ROC curve represents this trade off between false positives and false negatives."
   ]
  },
  {
   "cell_type": "code",
   "execution_count": 120,
   "id": "eb47fae6",
   "metadata": {},
   "outputs": [
    {
     "data": {
      "image/png": "[encoded data removed]",
      "text/plain": [
       "<Figure size 432x288 with 1 Axes>"
      ]
     },
     "metadata": {},
     "output_type": "display_data"
    }
   ],
   "source": [
    "from sklearn.metrics import roc_curve\n",
    "\n",
    "# Note that you'll want to use the .predict_proba(...) method for your classifier\n",
    "# instead of .predict(...) so you get probabilities, not classes\n",
    "\n",
    "words_list_model_probabilities = model_new.predict_proba(X_train_new)[:, 1]\n",
    "false_positive_rate_values, sensitivity_values, thresholds = roc_curve(Y_train_new, words_list_model_probabilities, pos_label=1)\n",
    "import matplotlib.pyplot as plt\n",
    "plt.title('Model ROC Curve')\n",
    "plt.plot(false_positive_rate_values, sensitivity_values)\n",
    "plt.xlim([0, 1])\n",
    "plt.ylim([0, 1])\n",
    "plt.ylabel('Sensitivity')\n",
    "plt.xlabel('False Positive Rate')\n",
    "plt.show()\n"
   ]
  },
  {
   "cell_type": "code",
   "execution_count": null,
   "id": "f0dd0b33",
   "metadata": {},
   "outputs": [],
   "source": []
  }
 ],
 "metadata": {
  "kernelspec": {
   "display_name": "Python 3",
   "language": "python",
   "name": "python3"
  },
  "language_info": {
   "codemirror_mode": {
    "name": "ipython",
    "version": 3
   },
   "file_extension": ".py",
   "mimetype": "text/x-python",
   "name": "python",
   "nbconvert_exporter": "python",
   "pygments_lexer": "ipython3",
   "version": "3.8.8"
  }
 },
 "nbformat": 4,
 "nbformat_minor": 5
}
